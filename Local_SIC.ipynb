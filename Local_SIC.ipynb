{
 "cells": [
  {
   "cell_type": "code",
   "execution_count": 1,
   "id": "b315e222-136c-4931-b93b-7e445b3055cc",
   "metadata": {
    "id": "e5d4b9a4-06f0-4d4f-b68c-cb7ee1e1ca24",
    "tags": []
   },
   "outputs": [],
   "source": [
    "import os, sys\n",
    "from PIL import Image\n",
    "# from osgeo import gdal, ogr, osr\n",
    "# gdal.UseExceptions()\n",
    "import rasterio\n",
    "import pandas as pd\n",
    "import matplotlib.pyplot as plt\n",
    "from matplotlib.colors import ListedColormap\n",
    "from rasterio.warp import reproject, Resampling, calculate_default_transform\n",
    "import numpy as np\n",
    "from rasterio.enums import Resampling\n",
    "from skimage.morphology import erosion, dilation, diamond, square, opening, disk\n",
    "from scipy import ndimage\n",
    "from datetime import datetime\n",
    "from skimage.filters import threshold_local\n",
    "\n",
    "import warnings\n",
    "warnings.filterwarnings(\"ignore\")\n",
    "import matplotlib as mpl\n",
    "import shutil\n",
    "\n",
    "import powerlaw"
   ]
  },
  {
   "cell_type": "code",
   "execution_count": 30,
   "id": "8101ad5a-1876-45b1-a846-d69cfcaee0e4",
   "metadata": {
    "tags": []
   },
   "outputs": [],
   "source": [
    "# location where the floe library is\n",
    "direc='/Users/ellenbuckley/Documents/Analysis/FSD/minki_test/'\n",
    "\n",
    "#location where the imagery is\n",
    "direc2='/Users/ellenbuckley/Documents/Analysis/FSD/data/'\n",
    "\n",
    "#location of the floe library output\n",
    "fname= 'No_Filter_2003_2019.txt'#'FLOE_LIBRARY_MK.txt' # to run from beginning\n",
    "\n",
    "# or if got stuck in the middle and loading results\n",
    "fname='FLOE_LIBRARY_SIC_v3.txt'\n"
   ]
  },
  {
   "cell_type": "code",
   "execution_count": 31,
   "id": "5855358a-e0dc-454f-b7c5-bd9a3f79c0ac",
   "metadata": {},
   "outputs": [],
   "source": [
    "# read in either beaufort sea or fram strait floe library\n",
    "floe_lib=pd.read_csv(direc+fname)\n",
    "# sub_sample= floe_lib[(floe_lib.Year==2007)&(floe_lib.DAY==194)]"
   ]
  },
  {
   "cell_type": "code",
   "execution_count": 38,
   "id": "280f856e-cef9-4c54-b47c-b886c8a1ff43",
   "metadata": {
    "tags": []
   },
   "outputs": [],
   "source": [
    "# create a column for easily finding image\n",
    "floe_lib['yeardoy']=[str(floe_lib.Year.values[i])+str(floe_lib.DAY.values[i]) for i in np.arange(0,len(floe_lib))]"
   ]
  },
  {
   "cell_type": "code",
   "execution_count": 54,
   "id": "48b7e444-5c99-4e5d-b91c-464dfbae5c19",
   "metadata": {
    "collapsed": true,
    "jupyter": {
     "outputs_hidden": true
    },
    "tags": []
   },
   "outputs": [
    {
     "ename": "RasterioIOError",
     "evalue": "/Volumes/SeaIce Data/Beaufort_Gyre/rot2004/input/images/NE_Greenland.2004153.aqua.250m.tif: No such file or directory",
     "output_type": "error",
     "traceback": [
      "\u001b[0;31m---------------------------------------------------------------------------\u001b[0m",
      "\u001b[0;31mCPLE_OpenFailedError\u001b[0m                      Traceback (most recent call last)",
      "File \u001b[0;32mrasterio/_base.pyx:261\u001b[0m, in \u001b[0;36mrasterio._base.DatasetBase.__init__\u001b[0;34m()\u001b[0m\n",
      "File \u001b[0;32mrasterio/_shim.pyx:78\u001b[0m, in \u001b[0;36mrasterio._shim.open_dataset\u001b[0;34m()\u001b[0m\n",
      "File \u001b[0;32mrasterio/_err.pyx:216\u001b[0m, in \u001b[0;36mrasterio._err.exc_wrap_pointer\u001b[0;34m()\u001b[0m\n",
      "\u001b[0;31mCPLE_OpenFailedError\u001b[0m: /Volumes/SeaIce Data/Beaufort_Gyre/rot2004/input/images/NE_Greenland.2004153.aqua.250m.tif: No such file or directory",
      "\nDuring handling of the above exception, another exception occurred:\n",
      "\u001b[0;31mRasterioIOError\u001b[0m                           Traceback (most recent call last)",
      "Cell \u001b[0;32mIn[54], line 29\u001b[0m\n\u001b[1;32m     26\u001b[0m direc_tci\u001b[38;5;241m=\u001b[39m\u001b[38;5;124m'\u001b[39m\u001b[38;5;124m/Volumes/SeaIce Data/Beaufort_Gyre/rot\u001b[39m\u001b[38;5;124m'\u001b[39m\u001b[38;5;241m+\u001b[39mydoy[:\u001b[38;5;241m4\u001b[39m]\u001b[38;5;241m+\u001b[39m\u001b[38;5;124m'\u001b[39m\u001b[38;5;124m/input/images/\u001b[39m\u001b[38;5;124m'\u001b[39m\n\u001b[1;32m     27\u001b[0m direc_fci\u001b[38;5;241m=\u001b[39m\u001b[38;5;124m'\u001b[39m\u001b[38;5;124m/Volumes/SeaIce Data/Beaufort_Gyre/rot\u001b[39m\u001b[38;5;124m'\u001b[39m\u001b[38;5;241m+\u001b[39mydoy[:\u001b[38;5;241m4\u001b[39m]\u001b[38;5;241m+\u001b[39m\u001b[38;5;124m'\u001b[39m\u001b[38;5;124m/input/images_reflectance/\u001b[39m\u001b[38;5;124m'\u001b[39m\n\u001b[0;32m---> 29\u001b[0m im_tci \u001b[38;5;241m=\u001b[39m rasterio\u001b[38;5;241m.\u001b[39mopen(direc_tci\u001b[38;5;241m+\u001b[39my)\n\u001b[1;32m     30\u001b[0m tci\u001b[38;5;241m=\u001b[39mim_tci\u001b[38;5;241m.\u001b[39mread(\u001b[38;5;241m1\u001b[39m)\n\u001b[1;32m     32\u001b[0m im_fci \u001b[38;5;241m=\u001b[39m rasterio\u001b[38;5;241m.\u001b[39mopen(direc_fci\u001b[38;5;241m+\u001b[39my)\n",
      "File \u001b[0;32m~/anaconda3/lib/python3.11/site-packages/rasterio/env.py:437\u001b[0m, in \u001b[0;36mensure_env_with_credentials.<locals>.wrapper\u001b[0;34m(*args, **kwds)\u001b[0m\n\u001b[1;32m    434\u001b[0m     session \u001b[38;5;241m=\u001b[39m DummySession()\n\u001b[1;32m    436\u001b[0m \u001b[38;5;28;01mwith\u001b[39;00m env_ctor(session\u001b[38;5;241m=\u001b[39msession):\n\u001b[0;32m--> 437\u001b[0m     \u001b[38;5;28;01mreturn\u001b[39;00m f(\u001b[38;5;241m*\u001b[39margs, \u001b[38;5;241m*\u001b[39m\u001b[38;5;241m*\u001b[39mkwds)\n",
      "File \u001b[0;32m~/anaconda3/lib/python3.11/site-packages/rasterio/__init__.py:220\u001b[0m, in \u001b[0;36mopen\u001b[0;34m(fp, mode, driver, width, height, count, crs, transform, dtype, nodata, sharing, **kwargs)\u001b[0m\n\u001b[1;32m    216\u001b[0m \u001b[38;5;66;03m# Create dataset instances and pass the given env, which will\u001b[39;00m\n\u001b[1;32m    217\u001b[0m \u001b[38;5;66;03m# be taken over by the dataset's context manager if it is not\u001b[39;00m\n\u001b[1;32m    218\u001b[0m \u001b[38;5;66;03m# None.\u001b[39;00m\n\u001b[1;32m    219\u001b[0m \u001b[38;5;28;01mif\u001b[39;00m mode \u001b[38;5;241m==\u001b[39m \u001b[38;5;124m'\u001b[39m\u001b[38;5;124mr\u001b[39m\u001b[38;5;124m'\u001b[39m:\n\u001b[0;32m--> 220\u001b[0m     s \u001b[38;5;241m=\u001b[39m DatasetReader(path, driver\u001b[38;5;241m=\u001b[39mdriver, sharing\u001b[38;5;241m=\u001b[39msharing, \u001b[38;5;241m*\u001b[39m\u001b[38;5;241m*\u001b[39mkwargs)\n\u001b[1;32m    221\u001b[0m \u001b[38;5;28;01melif\u001b[39;00m mode \u001b[38;5;241m==\u001b[39m \u001b[38;5;124m\"\u001b[39m\u001b[38;5;124mr+\u001b[39m\u001b[38;5;124m\"\u001b[39m:\n\u001b[1;32m    222\u001b[0m     s \u001b[38;5;241m=\u001b[39m get_writer_for_path(path, driver\u001b[38;5;241m=\u001b[39mdriver)(\n\u001b[1;32m    223\u001b[0m         path, mode, driver\u001b[38;5;241m=\u001b[39mdriver, sharing\u001b[38;5;241m=\u001b[39msharing, \u001b[38;5;241m*\u001b[39m\u001b[38;5;241m*\u001b[39mkwargs\n\u001b[1;32m    224\u001b[0m     )\n",
      "File \u001b[0;32mrasterio/_base.pyx:263\u001b[0m, in \u001b[0;36mrasterio._base.DatasetBase.__init__\u001b[0;34m()\u001b[0m\n",
      "\u001b[0;31mRasterioIOError\u001b[0m: /Volumes/SeaIce Data/Beaufort_Gyre/rot2004/input/images/NE_Greenland.2004153.aqua.250m.tif: No such file or directory"
     ]
    }
   ],
   "source": [
    "# for beaufort gyre\n",
    "lm_path='/Volumes/SeaIce Data/Beaufort_Gyre/info_common/Land.tif'\n",
    "\n",
    "#for each location\n",
    "#lm='landmask.tiff'\n",
    "s=rasterio.open(lm_path)\n",
    "land_mask=(s.read()[0])==75\n",
    "\n",
    "floe_lib['fc_incloud']=np.zeros(len(floe_lib))\n",
    "floe_lib['im_sic']=np.zeros(len(floe_lib))\n",
    "\n",
    "# create the local sea ice concentration and local cloud land fraction\n",
    "floe_lib['loc_sic3']=np.zeros(len(floe_lib))\n",
    "floe_lib['loc_clf3']=np.zeros(len(floe_lib))\n",
    "\n",
    "\n",
    "for ydoy in np.unique(floe_lib.yeardoy.values)[:87]:\n",
    "# for each image\n",
    "    #for sat in \n",
    "    for sat in ['aqua','terra']:\n",
    "        y='NE_Greenland.'+ydoy+'.'+sat+'.250m.tif'\n",
    "        if sat=='aqua':\n",
    "            n= 1\n",
    "        if sat=='terra':\n",
    "            n= 2\n",
    "\n",
    "        ### import the tc and fc images\n",
    "        direc_tci='/Volumes/SeaIce Data/Beaufort_Gyre/rot'+ydoy[:4]+'/input/images/'\n",
    "        direc_fci='/Volumes/SeaIce Data/Beaufort_Gyre/rot'+ydoy[:4]+'/input/images_reflectance/'\n",
    "\n",
    "        im_tci = rasterio.open(direc_tci+y)\n",
    "        tci=im_tci.read(1)\n",
    "\n",
    "        im_fci = rasterio.open(direc_fci+y)\n",
    "        fci=im_fci.read(1) \n",
    "\n",
    "        # set land mask to zero\n",
    "        tci[land_mask]=0\n",
    "        fci[land_mask]=0\n",
    "\n",
    "        # define cloud mask and set tci of mask to zero\n",
    "        cloud=fci>90\n",
    "        tci[cloud]=0\n",
    "\n",
    "        # cloud land mask is the whole area to be masked out\n",
    "        clm=(cloud|land_mask)\n",
    "\n",
    "        # determine transform for pixel indexing\n",
    "        transform = im_tci.transform\n",
    "\n",
    "        # resample the floe library for this specific day and satellite\n",
    "        sub_sample=floe_lib[(floe_lib.yeardoy==ydoy)&(floe_lib.SATE_TYPE==n)]#\n",
    "\n",
    "        # determine SIC of the image\n",
    "        im_sic=sum((tci>130)[~clm])/len((tci>130)[~clm])\n",
    "\n",
    "\n",
    "        #for each floe\n",
    "        for i in np.arange(0,len(sub_sample),1):\n",
    "            # local_rad x radius in pixel units\n",
    "            local_rad=3\n",
    "            dist_c= np.round(sub_sample.DATA_SIZE.values[i]/2 *local_rad/.25).astype(int)\n",
    "\n",
    "            # find location of floe in image\n",
    "            row, col = ~ transform * ( sub_sample.x_STEREO.values[i],sub_sample.y_STEREO.values[i])\n",
    "            row_c=int(np.round(row))\n",
    "            col_c=int(np.round(col))\n",
    "\n",
    "            # make the search area small- just a square\n",
    "            min_row=np.max([0,row_c-dist_c])\n",
    "            max_row=np.min([np.shape(tci)[1],row_c+dist_c])\n",
    "            min_col=np.max([0,col_c-dist_c])\n",
    "            max_col=np.min([np.shape(tci)[0],col_c+dist_c])\n",
    "\n",
    "            # determine if pixels in this square are within allowable radius of floe centroid\n",
    "            in_circ=[]\n",
    "            for nx in np.arange(min_row,max_row,1):\n",
    "                for ny in np.arange(min_col,max_col,1):\n",
    "                    dista=np.sqrt((nx - row_c) ** 2 + (ny - col_c) ** 2)\n",
    "                    if dista<= dist_c:\n",
    "                        in_circ.append((nx,ny))\n",
    "\n",
    "            # pixel coordinates of the circle surrounding the floe\n",
    "            x_coords = [coord[0] for coord in in_circ]\n",
    "            y_coords = [coord[1] for coord in in_circ]\n",
    "\n",
    "            # local area to floe\n",
    "            clm_loc=clm[y_coords,x_coords]\n",
    "            sic_loc=(tci>130)[y_coords,x_coords]\n",
    "\n",
    "            # output variables\n",
    "            fc_incloud=clm[col_c,row_c].astype(int)\n",
    "            if len(sic_loc[~clm_loc])>0:\n",
    "                loc_sic=sum(sic_loc[~clm_loc])/len(sic_loc[~clm_loc])\n",
    "            else:\n",
    "                loc_sic=np.nan\n",
    "            loc_clf=1-(len(sic_loc[~clm_loc])/(len(sic_loc)))\n",
    "\n",
    "            # put these values into the main floe library DF\n",
    "            floe_lib.at[sub_sample.index.values[i],'fc_incloud']=fc_incloud\n",
    "            floe_lib.at[sub_sample.index.values[i],'loc_sic3']=loc_sic\n",
    "            floe_lib.at[sub_sample.index.values[i],'loc_clf3']=loc_clf\n",
    "            floe_lib.at[sub_sample.index.values[i],'im_sic']=im_sic\n"
   ]
  },
  {
   "cell_type": "code",
   "execution_count": 55,
   "id": "dd99f9a8-87a2-4ad1-b180-57683a0287df",
   "metadata": {
    "tags": []
   },
   "outputs": [],
   "source": [
    "# save floe library\n",
    "floe_lib.to_csv(direc+'FLOE_LIBRARY_SIC_v3.txt')"
   ]
  }
 ],
 "metadata": {
  "kernelspec": {
   "display_name": "Python 3 (ipykernel)",
   "language": "python",
   "name": "python3"
  },
  "language_info": {
   "codemirror_mode": {
    "name": "ipython",
    "version": 3
   },
   "file_extension": ".py",
   "mimetype": "text/x-python",
   "name": "python",
   "nbconvert_exporter": "python",
   "pygments_lexer": "ipython3",
   "version": "3.11.3"
  }
 },
 "nbformat": 4,
 "nbformat_minor": 5
}
